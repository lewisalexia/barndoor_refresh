{
 "cells": [
  {
   "cell_type": "code",
   "execution_count": 1,
   "id": "c424a49b-140c-4fc9-b1c7-8ffc7e64009f",
   "metadata": {},
   "outputs": [],
   "source": [
    "import scrapy"
   ]
  },
  {
   "cell_type": "code",
   "execution_count": null,
   "id": "868b9b7f-23da-4ba0-99a5-8d3038397cd6",
   "metadata": {},
   "outputs": [],
   "source": [
    "class dailynews(scrapy.Spider):\n",
    "    name = 'daily_news'\n",
    "    allowed_domains = ['https://www.realnewsnotbs.com/', 'https://theatlasnews.co/']\n",
    "    start_urls = ['https://www.realnewsnotbs.com/world-news/', 'https://www.realnewsnotbs.com/us-news/', 'https://theatlasnews.co/']\n",
    "\n",
    "    custom_settings = {\n",
    "        'FEED_FORMAT': 'csv',\n",
    "        'FEED_URI': 'news.csv',\n",
    "        'FEED_EXPORT_APPEND': False,\n",
    "    }\n",
    "\n",
    "    def parse(self, response):\n",
    "        for title in response.css('div.title'):\n",
    "            yield {\n",
    "                'text': title.css('span.text::text').get()\n",
    "            }\n"
   ]
  }
 ],
 "metadata": {
  "kernelspec": {
   "display_name": "Python 3 (ipykernel)",
   "language": "python",
   "name": "python3"
  },
  "language_info": {
   "codemirror_mode": {
    "name": "ipython",
    "version": 3
   },
   "file_extension": ".py",
   "mimetype": "text/x-python",
   "name": "python",
   "nbconvert_exporter": "python",
   "pygments_lexer": "ipython3",
   "version": "3.9.18"
  }
 },
 "nbformat": 4,
 "nbformat_minor": 5
}
